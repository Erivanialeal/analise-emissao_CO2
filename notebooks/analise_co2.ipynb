{
 "cells": [
  {
   "cell_type": "code",
   "execution_count": 1,
   "metadata": {},
   "outputs": [],
   "source": [
    "import pandas as pd \n",
    "import numpy as np\n",
    "import matplotlib.pyplot as plt\n"
   ]
  },
  {
   "cell_type": "markdown",
   "metadata": {},
   "source": [
    "Objetivo explorar os dados de emissões de CO2 ao longo dos anos e indentificar padrões."
   ]
  },
  {
   "cell_type": "markdown",
   "metadata": {},
   "source": [
    "Carregamento dos dados"
   ]
  },
  {
   "cell_type": "code",
   "execution_count": 2,
   "metadata": {},
   "outputs": [],
   "source": [
    "df = pd.read_csv(r'C:\\Users\\eriva\\OneDrive\\Desktop\\analise-emissao_CO2\\data\\raw\\annual-co2-emissions-per-country.csv')\n"
   ]
  },
  {
   "cell_type": "code",
   "execution_count": 16,
   "metadata": {},
   "outputs": [
    {
     "name": "stdout",
     "output_type": "stream",
     "text": [
      "Análisar as primeiras 5 linhas do DataFrame o head.\n",
      "        Entity Code  Year  Annual CO₂ emissions\n",
      "0  Afghanistan  AFG  1949               14656.0\n",
      "1  Afghanistan  AFG  1950               84272.0\n",
      "2  Afghanistan  AFG  1951               91600.0\n",
      "3  Afghanistan  AFG  1952               91600.0\n",
      "4  Afghanistan  AFG  1953              106256.0\n"
     ]
    }
   ],
   "source": [
    "print(\"Análisar as primeiras 5 linhas do DataFrame o head.\")\n",
    "print(df.head())"
   ]
  },
  {
   "cell_type": "code",
   "execution_count": 17,
   "metadata": {},
   "outputs": [
    {
     "name": "stdout",
     "output_type": "stream",
     "text": [
      "Ver o arquivo como um todo\n",
      "<class 'pandas.core.frame.DataFrame'>\n",
      "RangeIndex: 29137 entries, 0 to 29136\n",
      "Data columns (total 4 columns):\n",
      " #   Column                Non-Null Count  Dtype  \n",
      "---  ------                --------------  -----  \n",
      " 0   Entity                29137 non-null  object \n",
      " 1   Code                  23497 non-null  object \n",
      " 2   Year                  29137 non-null  int64  \n",
      " 3   Annual CO₂ emissions  29137 non-null  float64\n",
      "dtypes: float64(1), int64(1), object(2)\n",
      "memory usage: 910.7+ KB\n",
      "None\n"
     ]
    }
   ],
   "source": [
    "print(\"Ver o arquivo como um todo\")\n",
    "print(df.info())"
   ]
  },
  {
   "cell_type": "markdown",
   "metadata": {},
   "source": [
    "Análise exploratória."
   ]
  },
  {
   "cell_type": "code",
   "execution_count": 31,
   "metadata": {},
   "outputs": [
    {
     "name": "stdout",
     "output_type": "stream",
     "text": [
      "Fornece um resumo estatístico de todas as colunas númericas.\n"
     ]
    },
    {
     "data": {
      "text/html": [
       "<div>\n",
       "<style scoped>\n",
       "    .dataframe tbody tr th:only-of-type {\n",
       "        vertical-align: middle;\n",
       "    }\n",
       "\n",
       "    .dataframe tbody tr th {\n",
       "        vertical-align: top;\n",
       "    }\n",
       "\n",
       "    .dataframe thead th {\n",
       "        text-align: right;\n",
       "    }\n",
       "</style>\n",
       "<table border=\"1\" class=\"dataframe\">\n",
       "  <thead>\n",
       "    <tr style=\"text-align: right;\">\n",
       "      <th></th>\n",
       "      <th>Year</th>\n",
       "      <th>Annual CO₂ emissions</th>\n",
       "    </tr>\n",
       "  </thead>\n",
       "  <tbody>\n",
       "    <tr>\n",
       "      <th>count</th>\n",
       "      <td>29137.000000</td>\n",
       "      <td>2.913700e+04</td>\n",
       "    </tr>\n",
       "    <tr>\n",
       "      <th>mean</th>\n",
       "      <td>1947.718022</td>\n",
       "      <td>4.156982e+08</td>\n",
       "    </tr>\n",
       "    <tr>\n",
       "      <th>std</th>\n",
       "      <td>58.985133</td>\n",
       "      <td>1.945844e+09</td>\n",
       "    </tr>\n",
       "    <tr>\n",
       "      <th>min</th>\n",
       "      <td>1750.000000</td>\n",
       "      <td>0.000000e+00</td>\n",
       "    </tr>\n",
       "    <tr>\n",
       "      <th>25%</th>\n",
       "      <td>1912.000000</td>\n",
       "      <td>3.737280e+05</td>\n",
       "    </tr>\n",
       "    <tr>\n",
       "      <th>50%</th>\n",
       "      <td>1962.000000</td>\n",
       "      <td>4.990392e+06</td>\n",
       "    </tr>\n",
       "    <tr>\n",
       "      <th>75%</th>\n",
       "      <td>1994.000000</td>\n",
       "      <td>5.327268e+07</td>\n",
       "    </tr>\n",
       "    <tr>\n",
       "      <th>max</th>\n",
       "      <td>2023.000000</td>\n",
       "      <td>3.779157e+10</td>\n",
       "    </tr>\n",
       "  </tbody>\n",
       "</table>\n",
       "</div>"
      ],
      "text/plain": [
       "               Year  Annual CO₂ emissions\n",
       "count  29137.000000          2.913700e+04\n",
       "mean    1947.718022          4.156982e+08\n",
       "std       58.985133          1.945844e+09\n",
       "min     1750.000000          0.000000e+00\n",
       "25%     1912.000000          3.737280e+05\n",
       "50%     1962.000000          4.990392e+06\n",
       "75%     1994.000000          5.327268e+07\n",
       "max     2023.000000          3.779157e+10"
      ]
     },
     "execution_count": 31,
     "metadata": {},
     "output_type": "execute_result"
    }
   ],
   "source": [
    "print(\"Fornece um resumo estatístico de todas as colunas númericas.\")\n",
    "df.describe()"
   ]
  },
  {
   "cell_type": "code",
   "execution_count": 19,
   "metadata": {},
   "outputs": [
    {
     "name": "stdout",
     "output_type": "stream",
     "text": [
      "Conta o número de valores nulo de cada coluna.\n"
     ]
    },
    {
     "data": {
      "text/plain": [
       "Entity                     0\n",
       "Code                    5640\n",
       "Year                       0\n",
       "Annual CO₂ emissions       0\n",
       "dtype: int64"
      ]
     },
     "execution_count": 19,
     "metadata": {},
     "output_type": "execute_result"
    }
   ],
   "source": [
    "print(\"Conta o número de valores nulo de cada coluna.\")\n",
    "df.isnull().sum()"
   ]
  },
  {
   "cell_type": "code",
   "execution_count": 20,
   "metadata": {},
   "outputs": [
    {
     "name": "stdout",
     "output_type": "stream",
     "text": [
      "Retorna os valores nulos de uma coluna.\n"
     ]
    },
    {
     "data": {
      "text/plain": [
       "array(['AFG', nan, 'ALB', 'DZA', 'AND', 'AGO', 'AIA', 'ATA', 'ATG', 'ARG',\n",
       "       'ARM', 'ABW', 'AUS', 'AUT', 'AZE', 'BHS', 'BHR', 'BGD', 'BRB',\n",
       "       'BLR', 'BEL', 'BLZ', 'BEN', 'BMU', 'BTN', 'BOL', 'BES', 'BIH',\n",
       "       'BWA', 'BRA', 'VGB', 'BRN', 'BGR', 'BFA', 'BDI', 'KHM', 'CMR',\n",
       "       'CAN', 'CPV', 'CAF', 'TCD', 'CHL', 'CHN', 'CXR', 'COL', 'COM',\n",
       "       'COG', 'COK', 'CRI', 'CIV', 'HRV', 'CUB', 'CUW', 'CYP', 'CZE',\n",
       "       'COD', 'DNK', 'DJI', 'DMA', 'DOM', 'TLS', 'ECU', 'EGY', 'SLV',\n",
       "       'GNQ', 'ERI', 'EST', 'SWZ', 'ETH', 'FRO', 'FJI', 'FIN', 'FRA',\n",
       "       'PYF', 'GAB', 'GMB', 'GEO', 'DEU', 'GHA', 'GRC', 'GRL', 'GRD',\n",
       "       'GTM', 'GIN', 'GNB', 'GUY', 'HTI', 'HND', 'HKG', 'HUN', 'ISL',\n",
       "       'IND', 'IDN', 'IRN', 'IRQ', 'IRL', 'ISR', 'ITA', 'JAM', 'JPN',\n",
       "       'JOR', 'KAZ', 'KEN', 'KIR', 'OWID_KOS', 'KWT', 'KGZ', 'LAO', 'LVA',\n",
       "       'LBN', 'LSO', 'LBR', 'LBY', 'LIE', 'LTU', 'LUX', 'MAC', 'MDG',\n",
       "       'MWI', 'MYS', 'MDV', 'MLI', 'MLT', 'MHL', 'MRT', 'MUS', 'MEX',\n",
       "       'FSM', 'MDA', 'MNG', 'MNE', 'MSR', 'MAR', 'MOZ', 'MMR', 'NAM',\n",
       "       'NRU', 'NPL', 'NLD', 'NCL', 'NZL', 'NIC', 'NER', 'NGA', 'NIU',\n",
       "       'PRK', 'MKD', 'NOR', 'OMN', 'PAK', 'PLW', 'PSE', 'PAN', 'PNG',\n",
       "       'PRY', 'PER', 'PHL', 'POL', 'PRT', 'QAT', 'ROU', 'RUS', 'RWA',\n",
       "       'SHN', 'KNA', 'LCA', 'SPM', 'VCT', 'WSM', 'STP', 'SAU', 'SEN',\n",
       "       'SRB', 'SYC', 'SLE', 'SGP', 'SXM', 'SVK', 'SVN', 'SLB', 'SOM',\n",
       "       'ZAF', 'KOR', 'SSD', 'ESP', 'LKA', 'SDN', 'SUR', 'SWE', 'CHE',\n",
       "       'SYR', 'TWN', 'TJK', 'TZA', 'THA', 'TGO', 'TON', 'TTO', 'TUN',\n",
       "       'TUR', 'TKM', 'TCA', 'TUV', 'UGA', 'UKR', 'ARE', 'GBR', 'USA',\n",
       "       'URY', 'UZB', 'VUT', 'VEN', 'VNM', 'WLF', 'OWID_WRL', 'YEM', 'ZMB',\n",
       "       'ZWE'], dtype=object)"
      ]
     },
     "execution_count": 20,
     "metadata": {},
     "output_type": "execute_result"
    }
   ],
   "source": [
    "print(\"Retorna os valores nulos de uma coluna.\")\n",
    "df['Code'].unique()"
   ]
  },
  {
   "cell_type": "code",
   "execution_count": 21,
   "metadata": {},
   "outputs": [
    {
     "name": "stdout",
     "output_type": "stream",
     "text": [
      "Mostra quantas linhas duplicadas existem no DataFrame\n"
     ]
    },
    {
     "data": {
      "text/plain": [
       "np.int64(0)"
      ]
     },
     "execution_count": 21,
     "metadata": {},
     "output_type": "execute_result"
    }
   ],
   "source": [
    "print(\"Mostra quantas linhas duplicadas existem no DataFrame\")\n",
    "df.duplicated().sum()"
   ]
  },
  {
   "cell_type": "code",
   "execution_count": 33,
   "metadata": {},
   "outputs": [
    {
     "name": "stdout",
     "output_type": "stream",
     "text": [
      "Lista os nomes de todas as colunas.\n",
      "Index(['Entity', 'Code', 'Year', 'Annual CO₂ emissions'], dtype='object')\n"
     ]
    }
   ],
   "source": [
    "print(\"Lista os nomes de todas as colunas.\")\n",
    "print(df.columns)"
   ]
  },
  {
   "cell_type": "code",
   "execution_count": 30,
   "metadata": {},
   "outputs": [
    {
     "name": "stdout",
     "output_type": "stream",
     "text": [
      "Conta a frequencia de cada valor em uma coluna.\n"
     ]
    },
    {
     "data": {
      "text/plain": [
       "Annual CO₂ emissions\n",
       "0.0          1106\n",
       "3664.0        270\n",
       "10992.0       164\n",
       "47632.0       123\n",
       "7328.0         99\n",
       "             ... \n",
       "1980859.0       1\n",
       "2384175.0       1\n",
       "2153300.0       1\n",
       "2232754.0       1\n",
       "688594.0        1\n",
       "Name: count, Length: 21854, dtype: int64"
      ]
     },
     "execution_count": 30,
     "metadata": {},
     "output_type": "execute_result"
    }
   ],
   "source": [
    "print(\"Conta a frequencia de cada valor em uma coluna.\")\n",
    "df['Annual CO₂ emissions'].value_counts()"
   ]
  },
  {
   "cell_type": "code",
   "execution_count": 8,
   "metadata": {},
   "outputs": [
    {
     "data": {
      "text/plain": [
       "np.int64(1750)"
      ]
     },
     "execution_count": 8,
     "metadata": {},
     "output_type": "execute_result"
    }
   ],
   "source": [
    "df['Year'].min() #primeiro ano\n"
   ]
  },
  {
   "cell_type": "code",
   "execution_count": 9,
   "metadata": {},
   "outputs": [
    {
     "data": {
      "text/plain": [
       "np.int64(2023)"
      ]
     },
     "execution_count": 9,
     "metadata": {},
     "output_type": "execute_result"
    }
   ],
   "source": [
    "df['Year'].max() #Ultimo ano"
   ]
  },
  {
   "cell_type": "code",
   "execution_count": 24,
   "metadata": {},
   "outputs": [],
   "source": [
    "df.columns = df.columns.str.strip()\n",
    "df.rename(columns={'Entity': 'coutry', 'Annual CO₂ emissions': 'co2'}, inplace=True)\n"
   ]
  },
  {
   "cell_type": "code",
   "execution_count": 40,
   "metadata": {},
   "outputs": [],
   "source": [
    "# Lista de entidades que NÃO são países e devem ser removidas\n",
    "excluir = ['World', 'Asia', 'Africa', 'Europe', 'European Union (27)', 'European Union (28)',\n",
    "    'North America', 'South America', 'Oceania', 'International transport',\n",
    "    'High-income countries', 'Low-income countries', 'Upper-middle-income countries',\n",
    "    'Lower-middle-income countries', 'Europe (excl. EU-27)', 'Asia (excl. China & India)',\n",
    "    'Africa (excl. South Africa)', 'Asia (excl. China)', 'EU-27']"
   ]
  },
  {
   "cell_type": "code",
   "execution_count": 41,
   "metadata": {},
   "outputs": [
    {
     "name": "stdout",
     "output_type": "stream",
     "text": [
      "           country Code  Year         co2\n",
      "0      Afghanistan  AFG  1949     14656.0\n",
      "1      Afghanistan  AFG  1950     84272.0\n",
      "2      Afghanistan  AFG  1951     91600.0\n",
      "3      Afghanistan  AFG  1952     91600.0\n",
      "4      Afghanistan  AFG  1953    106256.0\n",
      "...            ...  ...   ...         ...\n",
      "29132     Zimbabwe  ZWE  2019  10262950.0\n",
      "29133     Zimbabwe  ZWE  2020   8494503.0\n",
      "29134     Zimbabwe  ZWE  2021  10203630.0\n",
      "29135     Zimbabwe  ZWE  2022  10424940.0\n",
      "29136     Zimbabwe  ZWE  2023  11164030.0\n",
      "\n",
      "[25967 rows x 4 columns]\n"
     ]
    }
   ],
   "source": [
    "df_filtrado = df[\n",
    "    (df['Year'] >= 1750) & (df['Year'] <= 2023) &\n",
    "    (~df['country'].isin(excluir))\n",
    "]\n",
    "print(df_filtrado)"
   ]
  },
  {
   "cell_type": "code",
   "execution_count": 42,
   "metadata": {},
   "outputs": [
    {
     "data": {
      "text/plain": [
       "['country', 'Code', 'Year', 'co2']"
      ]
     },
     "execution_count": 42,
     "metadata": {},
     "output_type": "execute_result"
    }
   ],
   "source": [
    "df.columns.tolist()"
   ]
  },
  {
   "cell_type": "code",
   "execution_count": 43,
   "metadata": {},
   "outputs": [
    {
     "name": "stdout",
     "output_type": "stream",
     "text": [
      "country\n",
      "Afghanistan          2.368414e+08\n",
      "Africa (GCP)         5.259576e+10\n",
      "Albania              3.041735e+08\n",
      "Algeria              5.263690e+09\n",
      "Andorra              1.623590e+07\n",
      "                         ...     \n",
      "Vietnam              5.259254e+09\n",
      "Wallis and Futuna    8.337840e+05\n",
      "Yemen                6.958331e+08\n",
      "Zambia               2.739307e+08\n",
      "Zimbabwe             8.150887e+08\n",
      "Name: co2, Length: 233, dtype: float64\n"
     ]
    }
   ],
   "source": [
    "#Agrupar por país e somar as emissões\n",
    "total_por_pais = df_filtrado.groupby('country')['co2'].sum()\n",
    "\n",
    "print(total_por_pais)"
   ]
  },
  {
   "cell_type": "code",
   "execution_count": 44,
   "metadata": {},
   "outputs": [
    {
     "name": "stdout",
     "output_type": "stream",
     "text": [
      "O país que mais emitiu CO² de 1750 até 2023 foi o país OECD (GCP) ,com 979,918,566,460.00 toneladas\n"
     ]
    }
   ],
   "source": [
    "#Encontar o pís com maior emissão\n",
    "pais_top=total_por_pais.idxmax()\n",
    "valor_top= total_por_pais.max()\n",
    "print(f\"O país que mais emitiu CO² de 1750 até 2023 foi o país {pais_top} ,com {valor_top:,.2f} toneladas\")"
   ]
  },
  {
   "cell_type": "code",
   "execution_count": null,
   "metadata": {},
   "outputs": [
    {
     "data": {
      "image/png": "[encoded data removed]",
      "text/plain": [
       "<Figure size 1200x600 with 1 Axes>"
      ]
     },
     "metadata": {},
     "output_type": "display_data"
    }
   ],
   "source": [
    "\n",
    "df['Annual CO₂ emissions'].hist(#coluna com os dados\n",
    "    bins=50, #define os números de intervalos(barras)\n",
    "    figsize=(12,6),#controla o tamanho dá figura em polegadas\n",
    "    log=True,  # Escala logarítmica no eixo Y\n",
    "    edgecolor='black'#adiciona bordas preta a barras\n",
    ")\n",
    "plt.xlabel('Emissões Anuais de CO₂ (milhões de toneladas)')#rotulo do eixo x\n",
    "plt.ylabel('Número de países (escala log)')#rotulo do eixo y\n",
    "plt.title('Distribuição das Emissões de CO₂ por País') #título do gráfico\n",
    "plt.show() #exibição do gráfico"
   ]
  }
 ],
 "metadata": {
  "kernelspec": {
   "display_name": "sustentabilidade_co2",
   "language": "python",
   "name": "python3"
  },
  "language_info": {
   "codemirror_mode": {
    "name": "ipython",
    "version": 3
   },
   "file_extension": ".py",
   "mimetype": "text/x-python",
   "name": "python",
   "nbconvert_exporter": "python",
   "pygments_lexer": "ipython3",
   "version": "3.13.0"
  }
 },
 "nbformat": 4,
 "nbformat_minor": 2
}
